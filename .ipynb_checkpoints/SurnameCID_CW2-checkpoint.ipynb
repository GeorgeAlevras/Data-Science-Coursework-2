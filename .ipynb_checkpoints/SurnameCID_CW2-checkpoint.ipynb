{
  "nbformat": 4,
  "nbformat_minor": 0,
  "metadata": {
    "colab": {
      "name": "SurnameCID_CW2.ipynb",
      "provenance": [],
      "collapsed_sections": []
    },
    "kernelspec": {
      "name": "python3",
      "display_name": "Python 3"
    },
    "language_info": {
      "name": "python"
    }
  },
  "cells": [
    {
      "cell_type": "markdown",
      "source": [
        "<a name=\"outline\"></a>\n",
        "\n",
        "## Outline\n",
        "\n",
        "- [Task 1](#task-1): Neural networks\n",
        "  - [1.1](#q11) Multi-layer perceptron\n",
        "  - [1.2](#q12) Convolutional neural network (CNN)\n",
        "- [Task 2](#task-2): Unsupervised learning\n",
        "  - [2.1](#q21) Dimensionality reduction and clustering of a subset of  the Fashion-MNIST image data\n",
        "  - [2.2](#q22) Clustering of the feature matrix\n",
        "  - [2.3](#q23) Graph-based analysis \n",
        "- [Task 3](#task-3): Mastery component \n",
        "  - [3.1](#q31) Non-Negative Matrix Factorization (NMF) for dimensionality reduction \n",
        "  - [3.2](#q32) Community detection\n"
      ],
      "metadata": {
        "id": "4xHSx8l1tUYN"
      }
    },
    {
      "cell_type": "markdown",
      "source": [
        "<a name=\"task-1\"></a>\n",
        "# Task 1: Neural networks [^](#outline)\n",
        "\n"
      ],
      "metadata": {
        "id": "J3sSxTA3yzhN"
      }
    },
    {
      "cell_type": "markdown",
      "source": [
        "<a name=\"q11\"></a>\n",
        "\n",
        "## 1.1 Multi-layer perceptron [^](#outline)\n",
        "\n"
      ],
      "metadata": {
        "id": "1gY8lFgnyzsF"
      }
    },
    {
      "cell_type": "markdown",
      "source": [
        "<a name=\"q12\"></a>\n",
        "## 1.2 Convolutional neural network (CNN) [^](#outline)"
      ],
      "metadata": {
        "id": "gpbJPhupy0Cj"
      }
    },
    {
      "cell_type": "markdown",
      "source": [
        "<a name=\"task-2\"></a>\n",
        "\n",
        "# Task 2: Unsupervised learning [^](#outline)"
      ],
      "metadata": {
        "id": "oi0I8ERdy0mD"
      }
    },
    {
      "cell_type": "markdown",
      "source": [
        "<a name=\"q21\"></a>\n",
        "\n",
        "## 2.1 Dimensionality reduction and clustering of a subset of  the Fashion-MNIST image data [^](#outline)"
      ],
      "metadata": {
        "id": "BgBfTmgpy08Z"
      }
    },
    {
      "cell_type": "markdown",
      "source": [
        "<a name=\"q22\"></a>\n",
        "\n",
        "## 2.2 Clustering of the feature matrix [^](#outline)"
      ],
      "metadata": {
        "id": "rCPlajQOy1ER"
      }
    },
    {
      "cell_type": "markdown",
      "source": [
        "<a name=\"q23\"></a>\n",
        "\n",
        "## 2.3 Graph-based analysis  [^](#outline)"
      ],
      "metadata": {
        "id": "vfN9uz1qy1L4"
      }
    },
    {
      "cell_type": "markdown",
      "source": [
        "<a name=\"task-3\"></a>\n",
        "\n",
        "# Task 3: Mastery Component [^](#outline)"
      ],
      "metadata": {
        "id": "MlwygRTDy1fb"
      }
    },
    {
      "cell_type": "markdown",
      "source": [
        "<a name=\"q31\"></a>\n",
        "\n",
        "## 3.1 Non-Negative Matrix Factorization (NMF) for dimensionality reduction  [^](#outline)"
      ],
      "metadata": {
        "id": "NdYowG2Ny1qx"
      }
    },
    {
      "cell_type": "markdown",
      "source": [
        "<a name=\"q32\"></a>\n",
        "\n",
        "## 3.2 Community detection [^](#outline)"
      ],
      "metadata": {
        "id": "9XbuLm6qy100"
      }
    }
  ]
}